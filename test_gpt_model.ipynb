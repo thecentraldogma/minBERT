{
 "cells": [
  {
   "cell_type": "code",
   "execution_count": 1,
   "id": "e5e9492a-69d5-4d04-baeb-e4b6f374117f",
   "metadata": {},
   "outputs": [],
   "source": [
    "# minGPT\n",
    "import torch"
   ]
  },
  {
   "cell_type": "code",
   "execution_count": 2,
   "id": "e5945ef9-ba10-43ee-aa74-0f033b1a0304",
   "metadata": {},
   "outputs": [],
   "source": [
    "from minGPT import test_gpt_model, generate"
   ]
  },
  {
   "cell_type": "code",
   "execution_count": 3,
   "id": "b0f4d8a8-8b62-4296-98a8-5b9eeffeac6a",
   "metadata": {},
   "outputs": [
    {
     "name": "stdout",
     "output_type": "stream",
     "text": [
      "step    0 | train_loss 2.4114 | val_loss 2.4139\n",
      "step   50 | train_loss 2.2973 | val_loss 2.3091\n",
      "step  100 | train_loss 2.2192 | val_loss 2.2215\n",
      "step  150 | train_loss 2.1298 | val_loss 2.1343\n",
      "step  200 | train_loss 2.0730 | val_loss 2.0429\n",
      "step  250 | train_loss 2.0210 | val_loss 1.9419\n",
      "step  300 | train_loss 1.9021 | val_loss 1.8398\n",
      "step  350 | train_loss 1.8197 | val_loss 1.7474\n",
      "step  400 | train_loss 1.7367 | val_loss 1.6535\n",
      "step  450 | train_loss 1.6432 | val_loss 1.5564\n",
      "step  500 | train_loss 1.5852 | val_loss 1.4640\n",
      "step  550 | train_loss 1.5401 | val_loss 1.3774\n",
      "step  600 | train_loss 1.4381 | val_loss 1.2989\n",
      "step  650 | train_loss 1.3880 | val_loss 1.2115\n",
      "step  700 | train_loss 1.3215 | val_loss 1.1329\n",
      "step  750 | train_loss 1.2402 | val_loss 1.0583\n",
      "step  800 | train_loss 1.1893 | val_loss 0.9883\n",
      "step  850 | train_loss 1.1258 | val_loss 0.9200\n",
      "step  900 | train_loss 1.0689 | val_loss 0.8605\n",
      "step  950 | train_loss 0.9958 | val_loss 0.7984\n",
      "step 1000 | train_loss 0.9754 | val_loss 0.7448\n",
      "step 1050 | train_loss 0.9112 | val_loss 0.6946\n",
      "step 1100 | train_loss 0.8936 | val_loss 0.6452\n",
      "step 1150 | train_loss 0.8341 | val_loss 0.6058\n",
      "step 1200 | train_loss 0.7905 | val_loss 0.5622\n",
      "step 1250 | train_loss 0.7608 | val_loss 0.5190\n",
      "step 1300 | train_loss 0.7296 | val_loss 0.4819\n",
      "step 1350 | train_loss 0.6810 | val_loss 0.4497\n",
      "step 1400 | train_loss 0.6608 | val_loss 0.4148\n",
      "step 1450 | train_loss 0.6487 | val_loss 0.3840\n",
      "step 1500 | train_loss 0.5873 | val_loss 0.3559\n",
      "step 1550 | train_loss 0.5411 | val_loss 0.3284\n",
      "step 1600 | train_loss 0.5359 | val_loss 0.3020\n",
      "step 1650 | train_loss 0.5185 | val_loss 0.2790\n",
      "step 1700 | train_loss 0.4864 | val_loss 0.2554\n",
      "step 1750 | train_loss 0.4865 | val_loss 0.2346\n",
      "step 1800 | train_loss 0.4806 | val_loss 0.2146\n",
      "step 1850 | train_loss 0.4232 | val_loss 0.1979\n",
      "step 1900 | train_loss 0.4036 | val_loss 0.1808\n",
      "step 1950 | train_loss 0.3590 | val_loss 0.1670\n",
      "\n",
      "Sample predictions (first 3 rows):\n",
      "inp : [7, 8, 9, 0, 1, 2, 3, 4, 5, 6, 7, 8, 9, 0, 1, 2]\n",
      "tgt : [8, 9, 0, 1, 2, 3, 4, 5, 6, 7, 8, 9, 0, 1, 2, -100]\n",
      "pred: [8, 9, 0, 1, 2, 3, 4, 5, 6, 7, 8, 9, 0, 1, 2, 3]\n",
      "---\n",
      "inp : [3, 4, 5, 6, 7, 8, 9, 0, 1, 2, 3, 4, 5, 6, 7, 8]\n",
      "tgt : [4, 5, 6, 7, 8, 9, 0, 1, 2, 3, 4, 5, 6, 7, 8, -100]\n",
      "pred: [4, 5, 6, 7, 8, 9, 0, 1, 2, 3, 4, 5, 6, 7, 8, 9]\n",
      "---\n",
      "inp : [7, 8, 9, 0, 1, 2, 3, 4, 5, 6, 7, 8, 9, 0, 1, 2]\n",
      "tgt : [8, 9, 0, 1, 2, 3, 4, 5, 6, 7, 8, 9, 0, 1, 2, -100]\n",
      "pred: [8, 9, 0, 1, 2, 3, 4, 5, 6, 7, 8, 9, 0, 1, 2, 3]\n",
      "---\n",
      "inp : [2, 3, 4, 5, 6, 7, 8, 9, 0, 1, 2, 3, 4, 5, 6, 7]\n",
      "tgt : [3, 4, 5, 6, 7, 8, 9, 0, 1, 2, 3, 4, 5, 6, 7, -100]\n",
      "pred: [3, 4, 5, 6, 7, 8, 9, 0, 1, 2, 3, 4, 5, 6, 7, 8]\n",
      "---\n",
      "inp : [3, 4, 5, 6, 7, 8, 9, 0, 1, 2, 3, 4, 5, 6, 7, 8]\n",
      "tgt : [4, 5, 6, 7, 8, 9, 0, 1, 2, 3, 4, 5, 6, 7, 8, -100]\n",
      "pred: [4, 5, 6, 7, 8, 9, 0, 1, 2, 3, 4, 5, 6, 7, 8, 9]\n",
      "---\n",
      "inp : [7, 8, 9, 0, 1, 2, 3, 4, 5, 6, 7, 8, 9, 0, 1, 2]\n",
      "tgt : [8, 9, 0, 1, 2, 3, 4, 5, 6, 7, 8, 9, 0, 1, 2, -100]\n",
      "pred: [8, 9, 0, 1, 2, 3, 4, 5, 6, 7, 8, 9, 0, 1, 2, 3]\n",
      "---\n",
      "inp : [7, 8, 9, 0, 1, 2, 3, 4, 5, 6, 7, 8, 9, 0, 1, 2]\n",
      "tgt : [8, 9, 0, 1, 2, 3, 4, 5, 6, 7, 8, 9, 0, 1, 2, -100]\n",
      "pred: [8, 9, 0, 1, 2, 3, 4, 5, 6, 7, 8, 9, 0, 1, 2, 3]\n",
      "---\n",
      "inp : [5, 6, 7, 8, 9, 0, 1, 2, 3, 4, 5, 6, 7, 8, 9, 0]\n",
      "tgt : [6, 7, 8, 9, 0, 1, 2, 3, 4, 5, 6, 7, 8, 9, 0, -100]\n",
      "pred: [6, 7, 8, 9, 0, 1, 2, 3, 4, 5, 6, 7, 8, 9, 0, 1]\n",
      "---\n",
      "inp : [6, 7, 8, 9, 0, 1, 2, 3, 4, 5, 6, 7, 8, 9, 0, 1]\n",
      "tgt : [7, 8, 9, 0, 1, 2, 3, 4, 5, 6, 7, 8, 9, 0, 1, -100]\n",
      "pred: [7, 8, 9, 0, 1, 2, 3, 4, 5, 6, 7, 8, 9, 0, 1, 2]\n",
      "---\n",
      "inp : [1, 2, 3, 4, 5, 6, 7, 8, 9, 0, 1, 2, 3, 4, 5, 6]\n",
      "tgt : [2, 3, 4, 5, 6, 7, 8, 9, 0, 1, 2, 3, 4, 5, 6, -100]\n",
      "pred: [2, 3, 4, 5, 6, 7, 8, 9, 0, 1, 2, 3, 4, 5, 6, 6]\n",
      "---\n"
     ]
    }
   ],
   "source": [
    "model = test_gpt_model(vocab_size = 10, \n",
    "                d_model = 6, \n",
    "                n_heads = 2, \n",
    "                d_ff = 48, \n",
    "                n_layers = 1, \n",
    "                emb_p_drop = 0.1, \n",
    "                trx_p_drop = 0.1, \n",
    "                B=64, \n",
    "                T=16,\n",
    "                lr = 3e-4,\n",
    "                num_samples=1000,\n",
    "                n_steps=2000)"
   ]
  },
  {
   "cell_type": "code",
   "execution_count": 4,
   "id": "cc109abf-33d2-45c3-becc-75ba6cd3f436",
   "metadata": {},
   "outputs": [
    {
     "name": "stdout",
     "output_type": "stream",
     "text": [
      "torch.Size([1, 10])\n",
      "torch.Size([1, 10])\n",
      "torch.Size([1, 10])\n",
      "torch.Size([1, 10])\n",
      "torch.Size([1, 10])\n",
      "torch.Size([1, 10])\n",
      "torch.Size([1, 10])\n",
      "torch.Size([1, 10])\n"
     ]
    },
    {
     "data": {
      "text/plain": [
       "tensor([[0, 1, 2, 3, 4, 5, 6, 7]])"
      ]
     },
     "execution_count": 4,
     "metadata": {},
     "output_type": "execute_result"
    }
   ],
   "source": [
    "generate(model, idx=torch.tensor([[0, 1, 2, 3]]), max_new_tokens=4, temperature=1.0, top_k=None)"
   ]
  },
  {
   "cell_type": "code",
   "execution_count": null,
   "id": "c4d4f29e-dc3c-4318-b1d3-f2357d69a424",
   "metadata": {},
   "outputs": [],
   "source": []
  }
 ],
 "metadata": {
  "kernelspec": {
   "display_name": "Python 3 (ipykernel)",
   "language": "python",
   "name": "python3"
  },
  "language_info": {
   "codemirror_mode": {
    "name": "ipython",
    "version": 3
   },
   "file_extension": ".py",
   "mimetype": "text/x-python",
   "name": "python",
   "nbconvert_exporter": "python",
   "pygments_lexer": "ipython3",
   "version": "3.10.12"
  }
 },
 "nbformat": 4,
 "nbformat_minor": 5
}
