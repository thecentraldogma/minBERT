{
 "cells": [
  {
   "cell_type": "code",
   "execution_count": 1,
   "id": "d8f29727-4d27-4f63-a029-68b1fb087563",
   "metadata": {},
   "outputs": [],
   "source": [
    "import torch"
   ]
  },
  {
   "cell_type": "code",
   "execution_count": 2,
   "id": "9e852bc5-7eed-4d89-8291-ed4a06b907d4",
   "metadata": {},
   "outputs": [],
   "source": [
    "from minBERT import test_bert_model"
   ]
  },
  {
   "cell_type": "code",
   "execution_count": 3,
   "id": "8f6774df-28fe-4fbf-8d82-ec05a4e12c78",
   "metadata": {},
   "outputs": [
    {
     "name": "stdout",
     "output_type": "stream",
     "text": [
      "step    0 | train_loss 2.4880 | val_loss 2.5049\n",
      "step   50 | train_loss 2.3685 | val_loss 2.3591\n",
      "step  100 | train_loss 2.3594 | val_loss 2.3209\n",
      "step  150 | train_loss 2.3131 | val_loss 2.3134\n",
      "step  200 | train_loss 2.3122 | val_loss 2.3005\n",
      "step  250 | train_loss 2.3309 | val_loss 2.2965\n",
      "step  300 | train_loss 2.2940 | val_loss 2.2984\n",
      "step  350 | train_loss 2.3030 | val_loss 2.2887\n",
      "step  400 | train_loss 2.3071 | val_loss 2.2847\n",
      "step  450 | train_loss 2.2809 | val_loss 2.2831\n",
      "step  500 | train_loss 2.2948 | val_loss 2.2770\n",
      "step  550 | train_loss 2.2838 | val_loss 2.2673\n",
      "step  600 | train_loss 2.2698 | val_loss 2.2587\n",
      "step  650 | train_loss 2.2591 | val_loss 2.2433\n",
      "step  700 | train_loss 2.2550 | val_loss 2.2211\n",
      "step  750 | train_loss 2.2538 | val_loss 2.1972\n",
      "step  800 | train_loss 2.2034 | val_loss 2.1631\n",
      "step  850 | train_loss 2.2002 | val_loss 2.1155\n",
      "step  900 | train_loss 2.1241 | val_loss 2.0453\n",
      "step  950 | train_loss 2.1515 | val_loss 1.9979\n",
      "step 1000 | train_loss 2.1415 | val_loss 1.9208\n",
      "step 1050 | train_loss 2.0152 | val_loss 1.8700\n",
      "step 1100 | train_loss 2.0126 | val_loss 1.8143\n",
      "step 1150 | train_loss 1.9917 | val_loss 1.7359\n",
      "step 1200 | train_loss 1.9130 | val_loss 1.6610\n",
      "step 1250 | train_loss 1.8604 | val_loss 1.5470\n",
      "step 1300 | train_loss 1.8251 | val_loss 1.3835\n",
      "step 1350 | train_loss 1.5031 | val_loss 1.1978\n",
      "step 1400 | train_loss 1.5057 | val_loss 1.0370\n",
      "step 1450 | train_loss 1.2554 | val_loss 0.8726\n",
      "step 1500 | train_loss 1.1397 | val_loss 0.7321\n",
      "step 1550 | train_loss 1.0696 | val_loss 0.5586\n",
      "step 1600 | train_loss 0.7940 | val_loss 0.4230\n",
      "step 1650 | train_loss 0.6885 | val_loss 0.3318\n",
      "step 1700 | train_loss 0.6667 | val_loss 0.2581\n",
      "step 1750 | train_loss 0.4602 | val_loss 0.2123\n",
      "step 1800 | train_loss 0.4686 | val_loss 0.1960\n",
      "step 1850 | train_loss 0.4992 | val_loss 0.1563\n",
      "step 1900 | train_loss 0.4346 | val_loss 0.1372\n",
      "step 1950 | train_loss 0.4123 | val_loss 0.1199\n"
     ]
    }
   ],
   "source": [
    "t = test_bert_model(vocab_size=10, \n",
    "                    d_model=64, \n",
    "                    n_heads=2, \n",
    "                    d_ff=32, \n",
    "                    n_layers=3, \n",
    "                    emb_p_drop=0.1, \n",
    "                    trx_p_drop=0.1, \n",
    "                    B=64, \n",
    "                    T=16,\n",
    "                    mask_prob = 0.2,\n",
    "                    lr = 3e-4,\n",
    "                    num_samples=1000,\n",
    "                    n_steps=2000)"
   ]
  },
  {
   "cell_type": "code",
   "execution_count": null,
   "id": "e67e6f8e-ea75-4348-b32c-6d1150257407",
   "metadata": {},
   "outputs": [],
   "source": []
  }
 ],
 "metadata": {
  "kernelspec": {
   "display_name": "Python 3 (ipykernel)",
   "language": "python",
   "name": "python3"
  },
  "language_info": {
   "codemirror_mode": {
    "name": "ipython",
    "version": 3
   },
   "file_extension": ".py",
   "mimetype": "text/x-python",
   "name": "python",
   "nbconvert_exporter": "python",
   "pygments_lexer": "ipython3",
   "version": "3.10.12"
  }
 },
 "nbformat": 4,
 "nbformat_minor": 5
}
