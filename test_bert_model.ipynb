{
 "cells": [
  {
   "cell_type": "code",
   "execution_count": 1,
   "id": "d8f29727-4d27-4f63-a029-68b1fb087563",
   "metadata": {},
   "outputs": [],
   "source": [
    "import torch"
   ]
  },
  {
   "cell_type": "code",
   "execution_count": 2,
   "id": "9e852bc5-7eed-4d89-8291-ed4a06b907d4",
   "metadata": {},
   "outputs": [],
   "source": [
    "from minBERT import test_bert_model"
   ]
  },
  {
   "cell_type": "code",
   "execution_count": null,
   "id": "8f6774df-28fe-4fbf-8d82-ec05a4e12c78",
   "metadata": {},
   "outputs": [
    {
     "name": "stdout",
     "output_type": "stream",
     "text": [
      "step    0 | train_loss 2.5412 | val_loss 2.5203\n",
      "step   50 | train_loss 2.3298 | val_loss 2.3581\n",
      "step  100 | train_loss 2.3419 | val_loss 2.3156\n",
      "step  150 | train_loss 2.3306 | val_loss 2.2981\n",
      "step  200 | train_loss 2.3205 | val_loss 2.2888\n",
      "step  250 | train_loss 2.3073 | val_loss 2.2863\n",
      "step  300 | train_loss 2.3009 | val_loss 2.2805\n",
      "step  350 | train_loss 2.2833 | val_loss 2.2775\n",
      "step  400 | train_loss 2.3027 | val_loss 2.2717\n",
      "step  450 | train_loss 2.2842 | val_loss 2.2639\n",
      "step  500 | train_loss 2.2760 | val_loss 2.2533\n",
      "step  550 | train_loss 2.2669 | val_loss 2.2346\n",
      "step  600 | train_loss 2.2394 | val_loss 2.2241\n"
     ]
    }
   ],
   "source": [
    "t = test_bert_model(vocab_size=10, \n",
    "                    d_model=64, \n",
    "                    n_heads=2, \n",
    "                    d_ff=32, \n",
    "                    n_layers=3, \n",
    "                    emb_p_drop=0.1, \n",
    "                    trx_p_drop=0.1, \n",
    "                    B=64, \n",
    "                    T=16,\n",
    "                    mask_prob = 0.2,\n",
    "                    lr = 3e-4,\n",
    "                    num_samples=1000,\n",
    "                    n_steps=2000)"
   ]
  },
  {
   "cell_type": "code",
   "execution_count": null,
   "id": "b69228cf-12db-47e1-83de-08a867b83215",
   "metadata": {},
   "outputs": [],
   "source": []
  }
 ],
 "metadata": {
  "kernelspec": {
   "display_name": "Python 3 (ipykernel)",
   "language": "python",
   "name": "python3"
  },
  "language_info": {
   "codemirror_mode": {
    "name": "ipython",
    "version": 3
   },
   "file_extension": ".py",
   "mimetype": "text/x-python",
   "name": "python",
   "nbconvert_exporter": "python",
   "pygments_lexer": "ipython3",
   "version": "3.10.12"
  }
 },
 "nbformat": 4,
 "nbformat_minor": 5
}
